{
 "cells": [
  {
   "cell_type": "code",
   "execution_count": 13,
   "metadata": {
    "collapsed": true
   },
   "outputs": [],
   "source": [
    "import os\n",
    "from sklearn import datasets\n",
    "from sklearn.cluster import KMeans\n",
    "import sklearn.metrics as sm\n",
    "import sklearn.preprocessing as pre\n",
    "\n",
    "import numpy as np\n",
    "import pandas as pd\n",
    "import os\n",
    "\n",
    "import matplotlib as mpl\n",
    "import matplotlib.pyplot as plt"
   ]
  },
  {
   "cell_type": "code",
   "execution_count": 8,
   "metadata": {},
   "outputs": [
    {
     "data": {
      "text/plain": [
       "[(0, 'BC_057_0_1'),\n",
       " (1, 'BC_184_1_1'),\n",
       " (2, 'BC_378_1_1'),\n",
       " (3, 'BC_061_0_1'),\n",
       " (4, 'BC_059_0_1'),\n",
       " (5, 'BC_388_1_1'),\n",
       " (6, 'BC_184_1_2'),\n",
       " (7, 'BC_056_0_1'),\n",
       " (8, 'BC_057_0_2'),\n",
       " (9, 'BC_062_0_1'),\n",
       " (10, 'BC_061_0_2'),\n",
       " (11, 'BC_059_0_2'),\n",
       " (12, 'PC_051_0_1'),\n",
       " (13, 'PC_057_0_1'),\n",
       " (14, 'BC_388_1_2'),\n",
       " (15, 'PC_054_0_1'),\n",
       " (16, 'PC_050_0_1'),\n",
       " (17, '17032548'),\n",
       " (18, 'PC_055_0_1'),\n",
       " (19, '17032547'),\n",
       " (20, '17032549'),\n",
       " (21, '17032553'),\n",
       " (22, '17032550'),\n",
       " (23, 'PC_227_2_1'),\n",
       " (24, '17032559'),\n",
       " (25, '17032556'),\n",
       " (26, '17032551'),\n",
       " (27, '17032557'),\n",
       " (28, '17032561'),\n",
       " (29, '17032554'),\n",
       " (30, 'PC_052_0_1'),\n",
       " (31, '17032558'),\n",
       " (32, '17032563'),\n",
       " (33, '17032562'),\n",
       " (34, 'PC_136_1_1'),\n",
       " (35, '17032560'),\n",
       " (36, '17032567'),\n",
       " (37, '17032568'),\n",
       " (38, '17032566'),\n",
       " (39, '17032564'),\n",
       " (40, '17032570'),\n",
       " (41, '17032555'),\n",
       " (42, '17032565'),\n",
       " (43, '17032575'),\n",
       " (44, '17032569'),\n",
       " (45, '17032576'),\n",
       " (46, '17032577'),\n",
       " (47, '17032574'),\n",
       " (48, '17032580'),\n",
       " (49, '17032579'),\n",
       " (50, '17032578'),\n",
       " (51, '17032573'),\n",
       " (52, '17032581'),\n",
       " (53, '17032584'),\n",
       " (54, '17032582'),\n",
       " (55, '17032572'),\n",
       " (56, '17032586'),\n",
       " (57, '17032585'),\n",
       " (58, '17032591'),\n",
       " (59, '17032587'),\n",
       " (60, '17032589'),\n",
       " (61, '17032583'),\n",
       " (62, '17032590'),\n",
       " (63, '17032571'),\n",
       " (64, '17032595'),\n",
       " (65, '17032596'),\n",
       " (66, '17032597'),\n",
       " (67, '17032592'),\n",
       " (68, '17033772'),\n",
       " (69, '17032599'),\n",
       " (70, 'PC_061_0_1'),\n",
       " (71, '17033045'),\n",
       " (72, '17032594'),\n",
       " (73, 'PC_061_0_2'),\n",
       " (74, '17033040'),\n",
       " (75, '17033044'),\n",
       " (76, '17033063'),\n",
       " (77, '17035672'),\n",
       " (78, '17035673'),\n",
       " (79, '17035675'),\n",
       " (80, '17035676'),\n",
       " (81, '17035678'),\n",
       " (82, '17035679'),\n",
       " (83, '17033073'),\n",
       " (84, '17033361'),\n",
       " (85, '17033362'),\n",
       " (86, '17033077'),\n",
       " (87, 'PC_062_0_1'),\n",
       " (88, '17033046'),\n",
       " (89, '17033050'),\n",
       " (90, '17032588'),\n",
       " (91, '17033052'),\n",
       " (92, '17033047'),\n",
       " (93, '17033056'),\n",
       " (94, '17033055'),\n",
       " (95, '17032593'),\n",
       " (96, '17033042'),\n",
       " (97, '17033051'),\n",
       " (98, '17033060'),\n",
       " (99, '17033059'),\n",
       " (100, '17033057'),\n",
       " (101, '17033064'),\n",
       " (102, '17033066'),\n",
       " (103, '17033058'),\n",
       " (104, '17033061'),\n",
       " (105, '17033069'),\n",
       " (106, '17033048'),\n",
       " (107, '17033065'),\n",
       " (108, '17033074'),\n",
       " (109, '17033068'),\n",
       " (110, '17033070'),\n",
       " (111, '17033071'),\n",
       " (112, '17033072'),\n",
       " (113, '17033081'),\n",
       " (114, '17033080'),\n",
       " (115, '17033067'),\n",
       " (116, '17033079'),\n",
       " (117, '17033062'),\n",
       " (118, '17035671'),\n",
       " (119, '17035674'),\n",
       " (120, '17035677'),\n",
       " (121, '17033075'),\n",
       " (122, '17033076'),\n",
       " (123, '17033773'),\n",
       " (124, '17033078'),\n",
       " (125, 'PC_058_0_1'),\n",
       " (126, 'controls'),\n",
       " (127, 'BC_060_1_1'),\n",
       " (128, 'BC_067_0_1'),\n",
       " (129, 'BC_201_1_2'),\n",
       " (130, 'BC_519_1_1'),\n",
       " (131, 'BC_519_1_2'),\n",
       " (132, 'PC_058_1_2'),\n",
       " (133, 'BC_065_0_2'),\n",
       " (134, 'BC_070_0_1'),\n",
       " (135, 'BC_069_0_1'),\n",
       " (136, 'PC_064_0_1'),\n",
       " (137, 'BC_067_0_2'),\n",
       " (138, 'BC_201_1_1'),\n",
       " (139, 'BC_264_1_1'),\n",
       " (140, 'BC_346_1_1'),\n",
       " (141, 'PC_058_1_1'),\n",
       " (142, 'BC_065_0_1'),\n",
       " (143, 'BC_068_0_1'),\n",
       " (144, 'BC_070_0_2'),\n",
       " (145, 'BC_268_1_1'),\n",
       " (146, 'BC_060_1_2'),\n",
       " (147, 'PC_067_2_1'),\n",
       " (148, 'BC_096_1_1'),\n",
       " (149, 'BC_277_2_1'),\n",
       " (150, 'BC_277_2_2'),\n",
       " (151, 'BC_346_1_2'),\n",
       " (152, 'BC_514_1_1'),\n",
       " (153, 'PC_054_1_1'),\n",
       " (154, 'PC_054_1_2'),\n",
       " (155, 'PC_058_2_1'),\n",
       " (156, 'PC_066_0_1'),\n",
       " (157, 'PC_067_0_1'),\n",
       " (158, 'PC_191_2_1'),\n",
       " (159, 'BC_062_0_2'),\n",
       " (160, 'BC_066_1_1'),\n",
       " (161, 'BC_066_1_2'),\n",
       " (162, 'BC_527_1_1'),\n",
       " (163, 'PC_063_0_1')]"
      ]
     },
     "execution_count": 8,
     "metadata": {},
     "output_type": "execute_result"
    }
   ],
   "source": [
    "#Show the available images\n",
    "\n",
    "#rootdir = \"/data10/shared/jlogan/wensi20170523/luad\"\n",
    "rootdir = \"/data01/shared/tcga_analysis/seer_data/results\"\n",
    "allfiles = os.listdir(rootdir)\n",
    "imgdirs = [f for f in allfiles if not f.endswith(\".svs\") ]\n",
    "zip (range(len(imgdirs)), imgdirs) #show image names with indices\n"
   ]
  },
  {
   "cell_type": "code",
   "execution_count": 10,
   "metadata": {},
   "outputs": [
    {
     "data": {
      "text/plain": [
       "'/data01/shared/tcga_analysis/seer_data/results/BC_057_0_1'"
      ]
     },
     "execution_count": 10,
     "metadata": {},
     "output_type": "execute_result"
    }
   ],
   "source": [
    "#Select an image\n",
    "imgroot = \"%s/%s\"%(rootdir,imgdirs[0]) #Select the ith image\n",
    "imgroot"
   ]
  },
  {
   "cell_type": "code",
   "execution_count": 16,
   "metadata": {},
   "outputs": [
    {
     "data": {
      "text/plain": [
       "['3d5dc9f0-f168-484c-9879-671362e78fb0',\n",
       " 'c733b623-60f9-4d9e-8c8f-078f44634f22',\n",
       " '80ba6952-0693-492f-83c0-d8405b099bc2',\n",
       " '767088d3-eb1f-462c-92a9-dbdcc2b36113',\n",
       " 'c255ce80-11fe-492b-8891-799b0a5fde72',\n",
       " '11bfbfcb-5522-4d90-a808-ee5824119e0b',\n",
       " '4d0e0b54-b7ea-4287-972e-633f6a4975d7',\n",
       " '91dcb01a-5c9b-413e-8bf6-3c7ae35ee410',\n",
       " '8a28e6e9-ca6a-4676-9ade-2425372ae9c9',\n",
       " 'de6a952c-e4f5-4591-9547-098a66dfba46']"
      ]
     },
     "execution_count": 16,
     "metadata": {},
     "output_type": "execute_result"
    }
   ],
   "source": [
    "allimgdata = os.listdir(imgroot)\n",
    "csvfiles = [\"%s/%s\"%(imgroot,f) for f in allimgdata if f.endswith(\"features.csv\")]\n",
    "allimgdata"
   ]
  },
  {
   "cell_type": "code",
   "execution_count": 14,
   "metadata": {},
   "outputs": [
    {
     "ename": "NameError",
     "evalue": "name 'csvfiles' is not defined",
     "output_type": "error",
     "traceback": [
      "\u001b[0;31m---------------------------------------------------------------------------\u001b[0m",
      "\u001b[0;31mNameError\u001b[0m                                 Traceback (most recent call last)",
      "\u001b[0;32m<ipython-input-14-7f4c75aff564>\u001b[0m in \u001b[0;36m<module>\u001b[0;34m()\u001b[0m\n\u001b[1;32m      3\u001b[0m \u001b[0mflist\u001b[0m \u001b[0;34m=\u001b[0m \u001b[0;34m[\u001b[0m\u001b[0;34m]\u001b[0m\u001b[0;34m\u001b[0m\u001b[0m\n\u001b[1;32m      4\u001b[0m \u001b[0;34m\u001b[0m\u001b[0m\n\u001b[0;32m----> 5\u001b[0;31m \u001b[0;32mfor\u001b[0m \u001b[0mf\u001b[0m \u001b[0;32min\u001b[0m \u001b[0mcsvfiles\u001b[0m\u001b[0;34m:\u001b[0m\u001b[0;34m\u001b[0m\u001b[0m\n\u001b[0m\u001b[1;32m      6\u001b[0m     \u001b[0;31m#Use pandas to read csv...\u001b[0m\u001b[0;34m\u001b[0m\u001b[0;34m\u001b[0m\u001b[0m\n\u001b[1;32m      7\u001b[0m     \u001b[0mdf\u001b[0m \u001b[0;34m=\u001b[0m \u001b[0mpd\u001b[0m\u001b[0;34m.\u001b[0m\u001b[0mread_csv\u001b[0m\u001b[0;34m(\u001b[0m\u001b[0mf\u001b[0m\u001b[0;34m,\u001b[0m \u001b[0mindex_col\u001b[0m\u001b[0;34m=\u001b[0m\u001b[0mNone\u001b[0m\u001b[0;34m,\u001b[0m \u001b[0mheader\u001b[0m\u001b[0;34m=\u001b[0m\u001b[0;36m0\u001b[0m\u001b[0;34m,\u001b[0m \u001b[0musecols\u001b[0m\u001b[0;34m=\u001b[0m\u001b[0mrange\u001b[0m\u001b[0;34m(\u001b[0m\u001b[0;36m93\u001b[0m\u001b[0;34m)\u001b[0m\u001b[0;34m)\u001b[0m\u001b[0;34m\u001b[0m\u001b[0m\n",
      "\u001b[0;31mNameError\u001b[0m: name 'csvfiles' is not defined"
     ]
    }
   ],
   "source": [
    "#Create a data frame for all or part of the selected image\n",
    "frame = pd.DataFrame()\n",
    "flist = []\n",
    "\n",
    "for f in csvfiles:\n",
    "    #Use pandas to read csv...\n",
    "    df = pd.read_csv(f, index_col=None, header=0, usecols=range(93))\n",
    "    #df = pd.read_csv(f, index_col=None, header=0, usecols=[0,1,2,3])\n",
    "    #df = pd.read_csv(f, index_col=None, header=0)\n",
    "    df['file'] = f\n",
    "    flist.append(df)\n",
    "frame = pd.concat(flist, ignore_index=True)\n",
    "frame"
   ]
  },
  {
   "cell_type": "code",
   "execution_count": null,
   "metadata": {
    "collapsed": true
   },
   "outputs": [],
   "source": []
  }
 ],
 "metadata": {
  "kernelspec": {
   "display_name": "Python 2",
   "language": "python",
   "name": "python2"
  },
  "language_info": {
   "codemirror_mode": {
    "name": "ipython",
    "version": 2
   },
   "file_extension": ".py",
   "mimetype": "text/x-python",
   "name": "python",
   "nbconvert_exporter": "python",
   "pygments_lexer": "ipython2",
   "version": "2.7.12"
  }
 },
 "nbformat": 4,
 "nbformat_minor": 2
}
